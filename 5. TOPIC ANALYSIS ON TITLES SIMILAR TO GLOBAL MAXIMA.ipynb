{
 "cells": [
  {
   "cell_type": "markdown",
   "id": "de34c6c0",
   "metadata": {},
   "source": [
    "# 5: TOPIC ANALYSIS ON TITLES SIMILAR TO GLOBAL MAXIMA\n",
    "\n",
    "Analyze keywords of titles whose features are similar to the global maximum of the composite score model.\n",
    "\n",
    "## Step 5a: Recap of Global Maxima\n"
   ]
  },
  {
   "cell_type": "code",
   "execution_count": 17,
   "id": "24ff9b24",
   "metadata": {
    "ExecuteTime": {
     "end_time": "2024-05-13T05:49:37.845865Z",
     "start_time": "2024-05-13T05:49:37.829332Z"
    },
    "code_folding": []
   },
   "outputs": [
    {
     "data": {
      "text/plain": [
       "{'isAdult': 0,\n",
       " 'runtimeMinutes': 168.99999999999997,\n",
       " 'genres_TE': 0.3844082717006556,\n",
       " 'genres_COUNT': 3,\n",
       " 'actor_TE': 0.6533680613825336,\n",
       " 'actor_COUNT': 38,\n",
       " 'actress_TE': 0.8189210693083288,\n",
       " 'actress_COUNT': 1,\n",
       " 'casting_director_TE': 0.8560667653884508,\n",
       " 'casting_director_COUNT': 1,\n",
       " 'cinematographer_TE': 0.0102518649082633,\n",
       " 'cinematographer_COUNT': 1,\n",
       " 'composer_TE': 0.8182351827308728,\n",
       " 'composer_COUNT': 1,\n",
       " 'director_TE': 0.8837858813422167,\n",
       " 'director_COUNT': 1,\n",
       " 'editor_TE': 0.8623019167399543,\n",
       " 'editor_COUNT': 1,\n",
       " 'producer_TE': 0.7347334584340207,\n",
       " 'producer_COUNT': 1,\n",
       " 'production_designer_TE': 0.9041301479025808,\n",
       " 'production_designer_COUNT': 4,\n",
       " 'self_TE': 0.7724457277542547,\n",
       " 'self_COUNT': 30,\n",
       " 'writer_TE': 0.736346111203962,\n",
       " 'writer_COUNT': 3}"
      ]
     },
     "execution_count": 17,
     "metadata": {},
     "output_type": "execute_result"
    }
   ],
   "source": [
    "# Load the pickled file\n",
    "import pickle\n",
    "import pandas as pd\n",
    "pd.set_option('display.max_rows', 500)\n",
    "\n",
    "\n",
    "# MODEL_FILENAME = './models/2024-05-08 19-28-45_Booster.pkl'\n",
    "OPTIMALFEATURES_FILENAME = './models/2024-05-13 12-43-07_OPTIMALFEATURES.pkl'\n",
    "\n",
    "with open(OPTIMALFEATURES_FILENAME, 'rb') as file:\n",
    "    best_params = pickle.load(file)\n",
    "    \n",
    "best_params"
   ]
  },
  {
   "cell_type": "markdown",
   "id": "68444ea2",
   "metadata": {},
   "source": [
    "## Step 5b: Decode Target Encoded Values\n",
    "\n",
    "We aim to find data points that are similar in feature values to the global maximum, based on Euclidean distance."
   ]
  },
  {
   "cell_type": "code",
   "execution_count": 2,
   "id": "5566f24d",
   "metadata": {
    "ExecuteTime": {
     "end_time": "2024-05-13T05:46:03.862581Z",
     "start_time": "2024-05-13T05:46:03.452729Z"
    }
   },
   "outputs": [],
   "source": [
    "CATMEANS_FILENAME = './models/2024-05-11 18-59-46_col_to_catmeans.pkl'\n",
    "\n",
    "with open(CATMEANS_FILENAME, 'rb') as file:\n",
    "    col_to_catmeans = pickle.load(file)"
   ]
  },
  {
   "cell_type": "code",
   "execution_count": 3,
   "id": "ae506ccd",
   "metadata": {
    "ExecuteTime": {
     "end_time": "2024-05-13T05:46:03.865362Z",
     "start_time": "2024-05-13T05:46:03.863484Z"
    }
   },
   "outputs": [],
   "source": [
    "# Function to find closest n values to x\n",
    "def find_closest_values(series, x, n):\n",
    "    # Calculate the absolute differences from x\n",
    "    differences = series.sub(x).abs()\n",
    "    # Sort these differences and get the top n closest\n",
    "    closest_indices = differences.nsmallest(n).index\n",
    "    return series.loc[closest_indices]"
   ]
  },
  {
   "cell_type": "code",
   "execution_count": 4,
   "id": "785bc974",
   "metadata": {
    "ExecuteTime": {
     "end_time": "2024-05-13T05:46:04.072300Z",
     "start_time": "2024-05-13T05:46:03.867225Z"
    }
   },
   "outputs": [],
   "source": [
    "features = ['genres','actor','actress','casting_director','cinematographer',\n",
    "             'composer','director','editor','producer','production_designer',\n",
    "             'self','writer']\n",
    "\n",
    "records = []\n",
    "for feat in features:\n",
    "    series = col_to_catmeans[feat.replace('_temp','')]\n",
    "    x = best_params[f'{feat}_TE']\n",
    "    n = best_params[f'{feat}_COUNT']\n",
    "    \n",
    "    for close_cat in find_closest_values(series, x, n).index:\n",
    "        records.append([feat, close_cat])"
   ]
  },
  {
   "cell_type": "markdown",
   "id": "2b7a5bfc",
   "metadata": {},
   "source": [
    "Using `col_to_catmeans`, which stores the mean scores for each category, continuous values are decoded back to their respective categories.\n",
    "\n",
    "Given that the values of the global minimum might not match exactly with the category means in `col_to_catmeans`, the closest target encoded value to the actual value will be selected.\n",
    "\n",
    "**Example**\n",
    "\n",
    "    'genres_TE': 0.3844082717006556,\n",
    "    'genres_COUNT': 3\n",
    "    \n",
    "This conversion calls for decoding the value of `genres_TE` into the 3 closest target-encoded categories to the `genres_TE` value. Which means that the 3 closest categories are the following:\n",
    "* Biography (`0.381871`)\n",
    "* Sport (`0.363881`)\n",
    "* History (`0.359789`)"
   ]
  },
  {
   "cell_type": "code",
   "execution_count": 5,
   "id": "579fc0b4",
   "metadata": {
    "ExecuteTime": {
     "end_time": "2024-05-13T05:46:04.078243Z",
     "start_time": "2024-05-13T05:46:04.073438Z"
    }
   },
   "outputs": [
    {
     "data": {
      "text/plain": [
       "genres_temp\n",
       "Action         0.322377\n",
       "Adult          0.227223\n",
       "Adventure      0.334267\n",
       "Animation      0.351749\n",
       "Biography      0.381871\n",
       "Comedy         0.289577\n",
       "Crime          0.343605\n",
       "Documentary    0.312518\n",
       "Drama          0.305057\n",
       "Family         0.306678\n",
       "Fantasy        0.327761\n",
       "Film-Noir      0.425211\n",
       "Game-Show      0.281996\n",
       "History        0.359789\n",
       "Horror         0.277046\n",
       "Music          0.354070\n",
       "Musical        0.311042\n",
       "Mystery        0.340307\n",
       "News           0.315217\n",
       "Reality-TV     0.275147\n",
       "Romance        0.297307\n",
       "Sci-Fi         0.315240\n",
       "Sport          0.363881\n",
       "Talk-Show      0.274714\n",
       "Thriller       0.314649\n",
       "War            0.340275\n",
       "Western        0.302530\n",
       "Name: composite_score, dtype: float64"
      ]
     },
     "execution_count": 5,
     "metadata": {},
     "output_type": "execute_result"
    }
   ],
   "source": [
    "col_to_catmeans['genres']"
   ]
  },
  {
   "cell_type": "markdown",
   "id": "5487edf6",
   "metadata": {},
   "source": [
    "We do the same thing to decode the other feature values into categories."
   ]
  },
  {
   "cell_type": "code",
   "execution_count": 6,
   "id": "2955e75f",
   "metadata": {
    "ExecuteTime": {
     "end_time": "2024-05-13T05:46:28.823238Z",
     "start_time": "2024-05-13T05:46:04.080209Z"
    }
   },
   "outputs": [
    {
     "data": {
      "text/html": [
       "<div>\n",
       "<style scoped>\n",
       "    .dataframe tbody tr th:only-of-type {\n",
       "        vertical-align: middle;\n",
       "    }\n",
       "\n",
       "    .dataframe tbody tr th {\n",
       "        vertical-align: top;\n",
       "    }\n",
       "\n",
       "    .dataframe thead th {\n",
       "        text-align: right;\n",
       "    }\n",
       "</style>\n",
       "<table border=\"1\" class=\"dataframe\">\n",
       "  <thead>\n",
       "    <tr style=\"text-align: right;\">\n",
       "      <th></th>\n",
       "      <th>feature</th>\n",
       "      <th>primaryName</th>\n",
       "    </tr>\n",
       "  </thead>\n",
       "  <tbody>\n",
       "    <tr>\n",
       "      <th>0</th>\n",
       "      <td>actor</td>\n",
       "      <td>Lawrence Ryle, Bobby Worrest, Aramis Hudson, M...</td>\n",
       "    </tr>\n",
       "    <tr>\n",
       "      <th>1</th>\n",
       "      <td>actress</td>\n",
       "      <td>Jodie Farber</td>\n",
       "    </tr>\n",
       "    <tr>\n",
       "      <th>2</th>\n",
       "      <td>casting_director</td>\n",
       "      <td>Albert Tavares</td>\n",
       "    </tr>\n",
       "    <tr>\n",
       "      <th>3</th>\n",
       "      <td>cinematographer</td>\n",
       "      <td>Darko Stanojev</td>\n",
       "    </tr>\n",
       "    <tr>\n",
       "      <th>4</th>\n",
       "      <td>composer</td>\n",
       "      <td>Arcade Fire</td>\n",
       "    </tr>\n",
       "    <tr>\n",
       "      <th>5</th>\n",
       "      <td>director</td>\n",
       "      <td>Lee Unkrich</td>\n",
       "    </tr>\n",
       "    <tr>\n",
       "      <th>6</th>\n",
       "      <td>editor</td>\n",
       "      <td>Kevin Nolting</td>\n",
       "    </tr>\n",
       "    <tr>\n",
       "      <th>7</th>\n",
       "      <td>genres</td>\n",
       "      <td>Biography, Sport, History</td>\n",
       "    </tr>\n",
       "    <tr>\n",
       "      <th>8</th>\n",
       "      <td>producer</td>\n",
       "      <td>Bill Damaschke</td>\n",
       "    </tr>\n",
       "    <tr>\n",
       "      <th>9</th>\n",
       "      <td>production_designer</td>\n",
       "      <td>Chris Sanders, Dan Cooper, Bob Pauley, Jim Pea...</td>\n",
       "    </tr>\n",
       "    <tr>\n",
       "      <th>10</th>\n",
       "      <td>self</td>\n",
       "      <td>Loomis Fall, Ali Tabrizi, Lucy Tabrizi, Tamara...</td>\n",
       "    </tr>\n",
       "    <tr>\n",
       "      <th>11</th>\n",
       "      <td>writer</td>\n",
       "      <td>Philippe Petit, Ryan J. Condal, Simonetta Greggio</td>\n",
       "    </tr>\n",
       "  </tbody>\n",
       "</table>\n",
       "</div>"
      ],
      "text/plain": [
       "                feature                                        primaryName\n",
       "0                 actor  Lawrence Ryle, Bobby Worrest, Aramis Hudson, M...\n",
       "1               actress                                       Jodie Farber\n",
       "2      casting_director                                     Albert Tavares\n",
       "3       cinematographer                                     Darko Stanojev\n",
       "4              composer                                        Arcade Fire\n",
       "5              director                                        Lee Unkrich\n",
       "6                editor                                      Kevin Nolting\n",
       "7                genres                          Biography, Sport, History\n",
       "8              producer                                     Bill Damaschke\n",
       "9   production_designer  Chris Sanders, Dan Cooper, Bob Pauley, Jim Pea...\n",
       "10                 self  Loomis Fall, Ali Tabrizi, Lucy Tabrizi, Tamara...\n",
       "11               writer  Philippe Petit, Ryan J. Condal, Simonetta Greggio"
      ]
     },
     "metadata": {},
     "output_type": "display_data"
    }
   ],
   "source": [
    "import pandas as pd\n",
    "crew = pd.DataFrame(records, columns=['feature', 'nconst'])\n",
    "\n",
    "names = pd.read_csv('./raw_data/name.basics.tsv.gz', compression='gzip',\n",
    "                    delimiter='\\t', usecols=['nconst','primaryName'])\n",
    "\n",
    "crew_with_names = pd.merge(crew, names, how='left', on='nconst')\n",
    "crew_with_names['primaryName'] = crew_with_names['primaryName'].fillna(crew_with_names['nconst'])\n",
    "crew_with_names = crew_with_names.drop('nconst',axis=1)\n",
    "\n",
    "# Grouping by 'feature' and joining 'primaryName' values with commas\n",
    "crew_with_names = crew_with_names.groupby('feature')['primaryName'].agg(', '.join).reset_index()\n",
    "display(crew_with_names)"
   ]
  },
  {
   "cell_type": "markdown",
   "id": "5f24bb87",
   "metadata": {},
   "source": [
    "### Save dataset"
   ]
  },
  {
   "cell_type": "code",
   "execution_count": 7,
   "id": "f52dfb93",
   "metadata": {
    "ExecuteTime": {
     "end_time": "2024-05-13T05:46:28.834416Z",
     "start_time": "2024-05-13T05:46:28.827707Z"
    }
   },
   "outputs": [],
   "source": [
    "crew_with_names.to_csv('./processed_data/ultimate_crossover.csv')"
   ]
  },
  {
   "cell_type": "markdown",
   "id": "62f295fb",
   "metadata": {},
   "source": [
    "## Step 5c: Topic Analysis on Titles Similar to Global Maxima"
   ]
  },
  {
   "cell_type": "markdown",
   "id": "29f29cfa",
   "metadata": {},
   "source": [
    "## LOAD ENTIRE DATASET"
   ]
  },
  {
   "cell_type": "code",
   "execution_count": 8,
   "id": "f647eeb6",
   "metadata": {
    "ExecuteTime": {
     "end_time": "2024-05-13T05:46:29.846494Z",
     "start_time": "2024-05-13T05:46:28.835653Z"
    }
   },
   "outputs": [],
   "source": [
    "# Load data\n",
    "train = pd.read_csv('processed_data/train.csv', index_col=0).dropna()\n",
    "val = pd.read_csv('processed_data/val.csv', index_col=0).dropna()\n",
    "test = pd.read_csv('processed_data/test.csv', index_col=0).dropna()\n",
    "\n",
    "data = pd.concat([train, val, test])\n",
    "data_feat = data[list(best_params.keys())].copy()"
   ]
  },
  {
   "cell_type": "markdown",
   "id": "e224dd06",
   "metadata": {},
   "source": [
    "Before getting the closest values, it is necessary to scale both the data and the global maximum first."
   ]
  },
  {
   "cell_type": "code",
   "execution_count": 18,
   "id": "f5568f31",
   "metadata": {
    "ExecuteTime": {
     "end_time": "2024-05-13T05:49:49.194084Z",
     "start_time": "2024-05-13T05:49:49.068434Z"
    },
    "scrolled": false
   },
   "outputs": [
    {
     "data": {
      "text/html": [
       "<div>\n",
       "<style scoped>\n",
       "    .dataframe tbody tr th:only-of-type {\n",
       "        vertical-align: middle;\n",
       "    }\n",
       "\n",
       "    .dataframe tbody tr th {\n",
       "        vertical-align: top;\n",
       "    }\n",
       "\n",
       "    .dataframe thead th {\n",
       "        text-align: right;\n",
       "    }\n",
       "</style>\n",
       "<table border=\"1\" class=\"dataframe\">\n",
       "  <thead>\n",
       "    <tr style=\"text-align: right;\">\n",
       "      <th></th>\n",
       "      <th>isAdult</th>\n",
       "      <th>runtimeMinutes</th>\n",
       "      <th>genres_TE</th>\n",
       "      <th>genres_COUNT</th>\n",
       "      <th>actor_TE</th>\n",
       "      <th>actor_COUNT</th>\n",
       "      <th>actress_TE</th>\n",
       "      <th>actress_COUNT</th>\n",
       "      <th>casting_director_TE</th>\n",
       "      <th>casting_director_COUNT</th>\n",
       "      <th>cinematographer_TE</th>\n",
       "      <th>cinematographer_COUNT</th>\n",
       "      <th>composer_TE</th>\n",
       "      <th>composer_COUNT</th>\n",
       "      <th>director_TE</th>\n",
       "      <th>director_COUNT</th>\n",
       "      <th>editor_TE</th>\n",
       "      <th>editor_COUNT</th>\n",
       "      <th>producer_TE</th>\n",
       "      <th>producer_COUNT</th>\n",
       "      <th>production_designer_TE</th>\n",
       "      <th>production_designer_COUNT</th>\n",
       "      <th>self_TE</th>\n",
       "      <th>self_COUNT</th>\n",
       "      <th>writer_TE</th>\n",
       "      <th>writer_COUNT</th>\n",
       "    </tr>\n",
       "    <tr>\n",
       "      <th>tconst</th>\n",
       "      <th></th>\n",
       "      <th></th>\n",
       "      <th></th>\n",
       "      <th></th>\n",
       "      <th></th>\n",
       "      <th></th>\n",
       "      <th></th>\n",
       "      <th></th>\n",
       "      <th></th>\n",
       "      <th></th>\n",
       "      <th></th>\n",
       "      <th></th>\n",
       "      <th></th>\n",
       "      <th></th>\n",
       "      <th></th>\n",
       "      <th></th>\n",
       "      <th></th>\n",
       "      <th></th>\n",
       "      <th></th>\n",
       "      <th></th>\n",
       "      <th></th>\n",
       "      <th></th>\n",
       "      <th></th>\n",
       "      <th></th>\n",
       "      <th></th>\n",
       "      <th></th>\n",
       "    </tr>\n",
       "  </thead>\n",
       "  <tbody>\n",
       "    <tr>\n",
       "      <th>tt0097192</th>\n",
       "      <td>-0.120086</td>\n",
       "      <td>0.131018</td>\n",
       "      <td>-0.247498</td>\n",
       "      <td>-0.951871</td>\n",
       "      <td>0.076790</td>\n",
       "      <td>0.637351</td>\n",
       "      <td>-0.670992</td>\n",
       "      <td>0.000878</td>\n",
       "      <td>-1.247786</td>\n",
       "      <td>-0.226637</td>\n",
       "      <td>0.239683</td>\n",
       "      <td>-0.306884</td>\n",
       "      <td>0.002869</td>\n",
       "      <td>-0.327980</td>\n",
       "      <td>0.009835</td>\n",
       "      <td>-0.261377</td>\n",
       "      <td>0.318810</td>\n",
       "      <td>-0.377908</td>\n",
       "      <td>-0.721760</td>\n",
       "      <td>-0.634986</td>\n",
       "      <td>-0.368277</td>\n",
       "      <td>-0.179487</td>\n",
       "      <td>-0.106823</td>\n",
       "      <td>-0.257030</td>\n",
       "      <td>0.318651</td>\n",
       "      <td>0.275897</td>\n",
       "    </tr>\n",
       "    <tr>\n",
       "      <th>tt1588425</th>\n",
       "      <td>-0.120086</td>\n",
       "      <td>0.027601</td>\n",
       "      <td>0.263394</td>\n",
       "      <td>0.266380</td>\n",
       "      <td>0.110807</td>\n",
       "      <td>-1.604808</td>\n",
       "      <td>0.169335</td>\n",
       "      <td>-1.100954</td>\n",
       "      <td>-0.272904</td>\n",
       "      <td>-0.226637</td>\n",
       "      <td>-0.168444</td>\n",
       "      <td>1.707484</td>\n",
       "      <td>-0.351114</td>\n",
       "      <td>-0.327980</td>\n",
       "      <td>-0.313970</td>\n",
       "      <td>-0.261377</td>\n",
       "      <td>-0.170145</td>\n",
       "      <td>1.630531</td>\n",
       "      <td>-0.386767</td>\n",
       "      <td>-0.634986</td>\n",
       "      <td>-0.245896</td>\n",
       "      <td>-0.179487</td>\n",
       "      <td>-1.037798</td>\n",
       "      <td>4.773075</td>\n",
       "      <td>-0.203298</td>\n",
       "      <td>-0.786112</td>\n",
       "    </tr>\n",
       "    <tr>\n",
       "      <th>tt0065656</th>\n",
       "      <td>-0.120086</td>\n",
       "      <td>-0.009334</td>\n",
       "      <td>-0.781507</td>\n",
       "      <td>0.266380</td>\n",
       "      <td>0.912757</td>\n",
       "      <td>-0.483729</td>\n",
       "      <td>0.089135</td>\n",
       "      <td>2.204541</td>\n",
       "      <td>-0.272904</td>\n",
       "      <td>-0.226637</td>\n",
       "      <td>0.595486</td>\n",
       "      <td>-0.306884</td>\n",
       "      <td>-0.504568</td>\n",
       "      <td>1.730479</td>\n",
       "      <td>0.453350</td>\n",
       "      <td>-0.261377</td>\n",
       "      <td>0.100393</td>\n",
       "      <td>1.630531</td>\n",
       "      <td>0.619942</td>\n",
       "      <td>-0.634986</td>\n",
       "      <td>-0.245896</td>\n",
       "      <td>-0.179487</td>\n",
       "      <td>-0.106823</td>\n",
       "      <td>-0.257030</td>\n",
       "      <td>-0.016811</td>\n",
       "      <td>2.399916</td>\n",
       "    </tr>\n",
       "    <tr>\n",
       "      <th>tt0193617</th>\n",
       "      <td>-0.120086</td>\n",
       "      <td>-0.127526</td>\n",
       "      <td>-0.247498</td>\n",
       "      <td>-0.951871</td>\n",
       "      <td>-0.847507</td>\n",
       "      <td>0.263658</td>\n",
       "      <td>-0.727065</td>\n",
       "      <td>-1.100954</td>\n",
       "      <td>-0.272904</td>\n",
       "      <td>-0.226637</td>\n",
       "      <td>-0.592346</td>\n",
       "      <td>-0.306884</td>\n",
       "      <td>-0.837996</td>\n",
       "      <td>-0.327980</td>\n",
       "      <td>-0.497872</td>\n",
       "      <td>-0.261377</td>\n",
       "      <td>-0.528838</td>\n",
       "      <td>-0.377908</td>\n",
       "      <td>-0.386767</td>\n",
       "      <td>-0.634986</td>\n",
       "      <td>-0.864687</td>\n",
       "      <td>-0.179487</td>\n",
       "      <td>-0.106823</td>\n",
       "      <td>-0.257030</td>\n",
       "      <td>0.007107</td>\n",
       "      <td>-0.786112</td>\n",
       "    </tr>\n",
       "    <tr>\n",
       "      <th>tt8188734</th>\n",
       "      <td>-0.120086</td>\n",
       "      <td>0.263984</td>\n",
       "      <td>-0.247498</td>\n",
       "      <td>-0.951871</td>\n",
       "      <td>0.024815</td>\n",
       "      <td>0.263658</td>\n",
       "      <td>-0.039677</td>\n",
       "      <td>0.551794</td>\n",
       "      <td>-0.272904</td>\n",
       "      <td>-0.226637</td>\n",
       "      <td>-0.420344</td>\n",
       "      <td>-0.306884</td>\n",
       "      <td>-0.351114</td>\n",
       "      <td>-0.327980</td>\n",
       "      <td>-0.229908</td>\n",
       "      <td>-0.261377</td>\n",
       "      <td>-0.279689</td>\n",
       "      <td>-0.377908</td>\n",
       "      <td>0.025813</td>\n",
       "      <td>-0.634986</td>\n",
       "      <td>-0.245896</td>\n",
       "      <td>-0.179487</td>\n",
       "      <td>-0.106823</td>\n",
       "      <td>-0.257030</td>\n",
       "      <td>-0.209696</td>\n",
       "      <td>1.337907</td>\n",
       "    </tr>\n",
       "  </tbody>\n",
       "</table>\n",
       "</div>"
      ],
      "text/plain": [
       "            isAdult  runtimeMinutes  genres_TE  genres_COUNT  actor_TE  \\\n",
       "tconst                                                                   \n",
       "tt0097192 -0.120086        0.131018  -0.247498     -0.951871  0.076790   \n",
       "tt1588425 -0.120086        0.027601   0.263394      0.266380  0.110807   \n",
       "tt0065656 -0.120086       -0.009334  -0.781507      0.266380  0.912757   \n",
       "tt0193617 -0.120086       -0.127526  -0.247498     -0.951871 -0.847507   \n",
       "tt8188734 -0.120086        0.263984  -0.247498     -0.951871  0.024815   \n",
       "\n",
       "           actor_COUNT  actress_TE  actress_COUNT  casting_director_TE  \\\n",
       "tconst                                                                   \n",
       "tt0097192     0.637351   -0.670992       0.000878            -1.247786   \n",
       "tt1588425    -1.604808    0.169335      -1.100954            -0.272904   \n",
       "tt0065656    -0.483729    0.089135       2.204541            -0.272904   \n",
       "tt0193617     0.263658   -0.727065      -1.100954            -0.272904   \n",
       "tt8188734     0.263658   -0.039677       0.551794            -0.272904   \n",
       "\n",
       "           casting_director_COUNT  cinematographer_TE  cinematographer_COUNT  \\\n",
       "tconst                                                                         \n",
       "tt0097192               -0.226637            0.239683              -0.306884   \n",
       "tt1588425               -0.226637           -0.168444               1.707484   \n",
       "tt0065656               -0.226637            0.595486              -0.306884   \n",
       "tt0193617               -0.226637           -0.592346              -0.306884   \n",
       "tt8188734               -0.226637           -0.420344              -0.306884   \n",
       "\n",
       "           composer_TE  composer_COUNT  director_TE  director_COUNT  \\\n",
       "tconst                                                                \n",
       "tt0097192     0.002869       -0.327980     0.009835       -0.261377   \n",
       "tt1588425    -0.351114       -0.327980    -0.313970       -0.261377   \n",
       "tt0065656    -0.504568        1.730479     0.453350       -0.261377   \n",
       "tt0193617    -0.837996       -0.327980    -0.497872       -0.261377   \n",
       "tt8188734    -0.351114       -0.327980    -0.229908       -0.261377   \n",
       "\n",
       "           editor_TE  editor_COUNT  producer_TE  producer_COUNT  \\\n",
       "tconst                                                            \n",
       "tt0097192   0.318810     -0.377908    -0.721760       -0.634986   \n",
       "tt1588425  -0.170145      1.630531    -0.386767       -0.634986   \n",
       "tt0065656   0.100393      1.630531     0.619942       -0.634986   \n",
       "tt0193617  -0.528838     -0.377908    -0.386767       -0.634986   \n",
       "tt8188734  -0.279689     -0.377908     0.025813       -0.634986   \n",
       "\n",
       "           production_designer_TE  production_designer_COUNT   self_TE  \\\n",
       "tconst                                                                   \n",
       "tt0097192               -0.368277                  -0.179487 -0.106823   \n",
       "tt1588425               -0.245896                  -0.179487 -1.037798   \n",
       "tt0065656               -0.245896                  -0.179487 -0.106823   \n",
       "tt0193617               -0.864687                  -0.179487 -0.106823   \n",
       "tt8188734               -0.245896                  -0.179487 -0.106823   \n",
       "\n",
       "           self_COUNT  writer_TE  writer_COUNT  \n",
       "tconst                                          \n",
       "tt0097192   -0.257030   0.318651      0.275897  \n",
       "tt1588425    4.773075  -0.203298     -0.786112  \n",
       "tt0065656   -0.257030  -0.016811      2.399916  \n",
       "tt0193617   -0.257030   0.007107     -0.786112  \n",
       "tt8188734   -0.257030  -0.209696      1.337907  "
      ]
     },
     "execution_count": 18,
     "metadata": {},
     "output_type": "execute_result"
    }
   ],
   "source": [
    "from sklearn.preprocessing import StandardScaler\n",
    "\n",
    "scaler = StandardScaler()\n",
    "data_feat_mm = pd.DataFrame(scaler.fit_transform(data_feat),\n",
    "                            columns=data_feat.columns,\n",
    "                            index=data_feat.index)\n",
    "data_feat_mm.head()"
   ]
  },
  {
   "cell_type": "markdown",
   "id": "fa503c15",
   "metadata": {},
   "source": [
    "Once scaled, the closest 100 titles with feature values similar to the global maximum as are listed below."
   ]
  },
  {
   "cell_type": "code",
   "execution_count": 10,
   "id": "e39c0d97",
   "metadata": {
    "ExecuteTime": {
     "end_time": "2024-05-13T05:46:30.516259Z",
     "start_time": "2024-05-13T05:46:30.510925Z"
    }
   },
   "outputs": [],
   "source": [
    "best_params_df = pd.DataFrame(pd.Series(best_params)).T\n",
    "best_params_df = pd.DataFrame(scaler.transform(best_params_df[data_feat_mm.columns]),\n",
    "                              columns=best_params_df.columns)\n",
    "best_params_scaled = best_params_df.loc[0]"
   ]
  },
  {
   "cell_type": "code",
   "execution_count": 19,
   "id": "1e99f413",
   "metadata": {
    "ExecuteTime": {
     "end_time": "2024-05-13T05:49:58.420210Z",
     "start_time": "2024-05-13T05:49:54.670241Z"
    },
    "scrolled": false
   },
   "outputs": [
    {
     "data": {
      "text/plain": [
       "tconst\n",
       "tt0810779                                        Bound by Blood\n",
       "tt1283967                                               Transit\n",
       "tt0469119                                             Love Trap\n",
       "tt1879071                                      The Fourth Reich\n",
       "tt0025166                               George White's Scandals\n",
       "tt8420478                                       The Eradication\n",
       "tt13483480                          Tetonica Castro: Polar Star\n",
       "tt19365132                                       Goodbye Tornio\n",
       "tt32019988                                                Music\n",
       "tt32019932                                                 Time\n",
       "tt28028901                                             The Drop\n",
       "tt31029252                                             The Vent\n",
       "tt15438120                                                 Pupa\n",
       "tt3052434                          Standard Operating Procedure\n",
       "tt0480948          Vehicles and Weapons: Making 'Tomb Raider 2'\n",
       "tt0273087                              Antwerpen in de jaren 10\n",
       "tt2648218                            A Not So Pleasant Surprise\n",
       "tt15721450                                  One Planet: Save It\n",
       "tt0951361                                               Spooked\n",
       "tt28076878                                        Prosopagnosia\n",
       "tt0172302                       De Anul Nou, datini din Moldova\n",
       "tt11082664                                         Spring Fever\n",
       "tt13842114                                   Red String of Fate\n",
       "tt2162696                                    Azovstal: Miracles\n",
       "tt0363471                                   Betty's Corner Cafe\n",
       "tt0363817                                  The Mill Hunk Herald\n",
       "tt20421178                                    The Dark Midnight\n",
       "tt0035478                                      Twenty-One Miles\n",
       "tt15808204                                  The Service Station\n",
       "tt21952430                           Raiders of the Golden Bear\n",
       "tt14747578                               Apollo 11 Moon Landing\n",
       "tt1911580                              Insight: Anthony Asquith\n",
       "tt0004690                          Thirty Leagues Under the Sea\n",
       "tt32019409                                                1+1-1\n",
       "tt14723252                                 The Atlas of Wonders\n",
       "tt0246991                                         Train Busters\n",
       "tt5428456                                            Just Jenna\n",
       "tt10363622                         Samurai Cop: The Documentary\n",
       "tt1105301                                              Unhinged\n",
       "tt0020211                           Nazaré, Praia de Pescadores\n",
       "tt0080345                                       Alfonso Sánchez\n",
       "tt13086602                               Sid: The Final Curtain\n",
       "tt15245998                        PUBG India Life Battle Royale\n",
       "tt12687124                      It's What She Would Have Wanted\n",
       "tt28955039                      The Red Shoes: 75th Anniversary\n",
       "tt10777272                                            Maternity\n",
       "tt20256652                                               Moishe\n",
       "tt0225999                            The Great Religions: Islam\n",
       "tt0234300                    NSDAP Parteitag August 20-21, 1927\n",
       "tt0366493                                        Front of Steel\n",
       "tt8671526                       Elvis Comeback Theatrical Event\n",
       "tt9562782                             Bob and Don: A Love Story\n",
       "tt0312374                                   Here Was the Anthem\n",
       "tt1970055                                    The Social Seminar\n",
       "tt22090720                                  Guests from Kharkiv\n",
       "tt16900292                                         Tarihin Ruhu\n",
       "tt0199882                   El náufrago de la calle Providencia\n",
       "tt5556644                                  Fantastigin sinemasi\n",
       "tt0094045                         Storme: Lady of the Jewel Box\n",
       "tt0323700                                             President\n",
       "tt8167040                                       Seeds of Deceit\n",
       "tt0366754                                    The Mask of Nippon\n",
       "tt0136963                    Women's Misery - Women's Happiness\n",
       "tt0390309                                             Nos stars\n",
       "tt0479515                                     La presa di Zuara\n",
       "tt0227997        After the Big One: Nuclear War on the Prairies\n",
       "tt23117900                             The Clerks 3 Documentary\n",
       "tt0350610      Betimi i popullit shqiptar para Stalinit të madh\n",
       "tt0124223                                       L'île de Pâques\n",
       "tt0462298                                   The Unknown Trilogy\n",
       "tt26438520                                Bir Ankara Polisiyesi\n",
       "tt0066785                                  Around South Central\n",
       "tt0302518                                                 EPCOT\n",
       "tt14536366                                   Sensitive Material\n",
       "tt0072807                        A Comedy in Six Unnatural Acts\n",
       "tt0010375                                   The Log of the U-35\n",
       "tt28996901                                   Thrown to the Wind\n",
       "tt19867922                         Gosain: The colors of Spring\n",
       "tt31307905                                                Extra\n",
       "tt31829513                              The Making of Priscilla\n",
       "tt0223811                                     The Norman Summer\n",
       "tt0224335                                     V Was for Victory\n",
       "tt0223061                                    Crisis on the Hill\n",
       "tt0222997                                Cinderella on the Left\n",
       "tt0223006                                      The Clouded Dawn\n",
       "tt2137139                         My Good and Beautiful Friends\n",
       "tt16246702                                The Great Abandonment\n",
       "tt13365702                          Justin Bieber: Next Chapter\n",
       "tt0235878                    What the Hell's Going on Up There?\n",
       "tt31261780                                             Dukkhito\n",
       "tt0313910                                         Cocaine Blues\n",
       "tt1337065                 The Triumph of William Henry Harrison\n",
       "tt31308168                               Booking (Love Stories)\n",
       "tt7377322                                       The Last Signal\n",
       "tt0036076                                     Moscow Music Hall\n",
       "tt14669816                   The Pilgrimage Journey of Xuanzang\n",
       "tt20878066                                        Questionnaire\n",
       "tt16411764                    Better Days: The Story of UK Rave\n",
       "tt1402359                                Old School, New School\n",
       "tt23867782    THE SIGHTS OF SPACE: A Voyage to Spectacular A...\n",
       "Name: primaryTitle, dtype: object"
      ]
     },
     "execution_count": 19,
     "metadata": {},
     "output_type": "execute_result"
    }
   ],
   "source": [
    "import pandas as pd\n",
    "from scipy.spatial import distance\n",
    "\n",
    "# Assuming data is your DataFrame with the dataset\n",
    "\n",
    "# Function to calculate Euclidean distance\n",
    "def calculate_distance(row):\n",
    "    return distance.euclidean(row, best_params_scaled)\n",
    "\n",
    "# Calculate distance from each row in the DataFrame to the best_params\n",
    "data_feat_dist = data_feat.apply(calculate_distance, axis=1)\n",
    "\n",
    "# Sort by distance and select the top 100 closest entries\n",
    "closest_100 = data_feat_dist.sort_values().head(100)\n",
    "movie_titles = data.loc[closest_100.index,'primaryTitle']\n",
    "movie_titles.head(100)"
   ]
  },
  {
   "cell_type": "markdown",
   "id": "d4c69b8f",
   "metadata": {},
   "source": [
    "## Retrieving the most popular terms\n",
    "\n",
    "TF-IDF, or Term Frequency-Inverse Document Frequency, is a statistical measure used to evaluate the importance of a word in a collection of documents. It helps identify the most relevant terms in each document.\n",
    "* The **term frequency (TF)** part assesses how frequently a term appears in a specific document,\n",
    "* while the **inverse document frequency (IDF)** part evaluates how rare or common the term is across the whole document set.\n",
    "The combination of these two measures helps to prioritize terms that are frequent in a particular document but not too common across all documents, making them distinctive and potentially more relevant to the topic of the document. This makes TF-IDF particularly useful for extracting top terms that uniquely characterize each document."
   ]
  },
  {
   "cell_type": "code",
   "execution_count": 12,
   "id": "f2a1a53b",
   "metadata": {
    "ExecuteTime": {
     "end_time": "2024-05-13T05:46:34.266903Z",
     "start_time": "2024-05-13T05:46:34.246273Z"
    }
   },
   "outputs": [],
   "source": [
    "from sklearn.feature_extraction.text import TfidfVectorizer\n",
    "\n",
    "# Initialize the TF-IDF Vectorizer\n",
    "vectorizer = TfidfVectorizer(ngram_range=(1,3))\n",
    "\n",
    "# Fit and transform the series\n",
    "tfidf_matrix = vectorizer.fit_transform(movie_titles)\n",
    "\n",
    "# Get feature names to use as dataframe column headers\n",
    "feature_names = vectorizer.get_feature_names_out()\n",
    "\n",
    "# Create a DataFrame for the TF-IDF values\n",
    "df_tfidf = pd.DataFrame(tfidf_matrix.toarray(), columns=feature_names)"
   ]
  },
  {
   "cell_type": "markdown",
   "id": "e335507a",
   "metadata": {},
   "source": [
    "Using this approach, the top 3 terms are the following:"
   ]
  },
  {
   "cell_type": "code",
   "execution_count": 21,
   "id": "46aabb8e",
   "metadata": {
    "ExecuteTime": {
     "end_time": "2024-05-13T06:18:13.830545Z",
     "start_time": "2024-05-13T06:18:13.803287Z"
    },
    "scrolled": true
   },
   "outputs": [
    {
     "name": "stdout",
     "output_type": "stream",
     "text": [
      "Top overall terms: ['transit', 'time', 'maternity', 'epcot', 'extra', 'president', 'prosopagnosia', 'spooked', 'pupa', 'questionnaire', 'moishe', 'unhinged', 'music', 'dukkhito', 'drop', 'vent', 'eradication', 'the drop', 'the eradication', 'the vent']\n"
     ]
    }
   ],
   "source": [
    "# Function to get top n terms with highest tf-idf scores for each document\n",
    "def get_top_n_terms(dataframe, top_n=5):\n",
    "    top_terms = {}\n",
    "    for index, row in dataframe.iterrows():\n",
    "        # Sort the TF-IDF values in descending order and select the top n\n",
    "        sorted_row = row.sort_values(ascending=False)\n",
    "        top_terms[index] = sorted_row.head(top_n).index.tolist()\n",
    "    return top_terms\n",
    "\n",
    "top_terms = 20\n",
    "# Get top 5 terms for each document\n",
    "top_terms_per_document = get_top_n_terms(df_tfidf, top_terms)\n",
    "\n",
    "# If you want to find the overall top terms in the corpus:\n",
    "top_terms_overall = df_tfidf.max(axis=0).sort_values(ascending=False).head(top_terms).index.tolist()\n",
    "\n",
    "print(\"Top overall terms:\", top_terms_overall)"
   ]
  },
  {
   "cell_type": "markdown",
   "id": "1852ce59",
   "metadata": {},
   "source": [
    "## Suggested Title and Synopses from ChatGPT\n",
    "\n",
    "The following top terms, I asked ChatGPT to generate titles and synopses with the following terms:\n",
    "\n",
    "|     Title                                   |     Synopsis                                                                                                                                               |\n",
    "|---------------------------------------------|------------------------------------------------------------------------------------------------------------------------------------------------------------|\n",
    "|     Transit   Through Time                  |     A   historical sports biography about an athlete overcoming adversities in   different eras.                                                           |\n",
    "|     Extra   Presidential                    |     A   biographical film about a lesser-known but impactful president whose policies   left a lasting mark.                                               |\n",
    "|     Prosopagnosia:   The Unseen Faces       |     A   deep, personal story about someone struggling with face blindness, possibly   an athlete or historical figure who must overcome this challenge.    |\n",
    "|     Pupa:   Transformation of a Champion    |     A   biography focusing on an athlete's metamorphosis and trials.                                                                                       |\n",
    "|     Unhinged   Melodies                     |     With   music by Arcade Fire, a film about an unstable but genius musician who   influenced a sport or historical event.                                |"
   ]
  },
  {
   "cell_type": "markdown",
   "id": "e37620db",
   "metadata": {},
   "source": [
    "## REFERENCES\n",
    "* The CRITIC Method. *New Methods and Applications in Multiple Attribute Decision Making (MADM)*\n",
    "* The Beauty of Bayesian Optimization, Explained in Simple Terms. https://towardsdatascience.com/the-beauty-of-bayesian-optimization-explained-in-simple-terms-81f3ee13b10f\n",
    "* ChatGPT prompts to generate movie titles of top terms."
   ]
  }
 ],
 "metadata": {
  "kernelspec": {
   "display_name": "imdb",
   "language": "python",
   "name": "imdb"
  },
  "language_info": {
   "codemirror_mode": {
    "name": "ipython",
    "version": 3
   },
   "file_extension": ".py",
   "mimetype": "text/x-python",
   "name": "python",
   "nbconvert_exporter": "python",
   "pygments_lexer": "ipython3",
   "version": "3.11.9"
  }
 },
 "nbformat": 4,
 "nbformat_minor": 5
}
